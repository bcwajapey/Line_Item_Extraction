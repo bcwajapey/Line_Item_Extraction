{
  "nbformat": 4,
  "nbformat_minor": 0,
  "metadata": {
    "colab": {
      "name": "Line Item Extraction.ipynb",
      "provenance": [],
      "collapsed_sections": [],
      "toc_visible": true,
      "include_colab_link": true
    },
    "kernelspec": {
      "name": "python3",
      "display_name": "Python 3"
    },
    "accelerator": "GPU"
  },
  "cells": [
    {
      "cell_type": "markdown",
      "metadata": {
        "id": "view-in-github",
        "colab_type": "text"
      },
      "source": [
        "<a href=\"https://colab.research.google.com/github/strangest-quark/line-item-extraction/blob/master/Line_Item_Extraction.ipynb\" target=\"_parent\"><img src=\"https://colab.research.google.com/assets/colab-badge.svg\" alt=\"Open In Colab\"/></a>"
      ]
    },
    {
      "cell_type": "markdown",
      "metadata": {
        "id": "8q-NrSjkPpo_",
        "colab_type": "text"
      },
      "source": [
        "# Bank statements Line Item Extraction\n",
        "Based on Cascade TableNet - https://github.com/DevashishPrasad/CascadeTabNet "
      ]
    },
    {
      "cell_type": "markdown",
      "metadata": {
        "id": "h3w-lUufPs1X",
        "colab_type": "text"
      },
      "source": [
        "## 1. Install all the prerequisite\n",
        "This will take a while, Remember to **Restart Runtime** after this step is done "
      ]
    },
    {
      "cell_type": "code",
      "metadata": {
        "id": "UEKJ_-iyPkdg",
        "colab_type": "code",
        "colab": {}
      },
      "source": [
        "!pip install torch==1.4.0+cu100 torchvision==0.5.0+cu100 -f https://download.pytorch.org/whl/torch_stable.html\n",
        "!pip install -q mmcv terminaltables\n",
        "!git clone --branch v1.2.0 'https://github.com/open-mmlab/mmdetection.git'\n",
        "%cd \"mmdetection\"\n",
        "!pip install -r \"/content/mmdetection/requirements/optional.txt\"\n",
        "!python setup.py install\n",
        "!python setup.py develop\n",
        "!pip install -r {\"requirements.txt\"}\n",
        "!pip install pillow==6.2.1 \n",
        "!pip install mmcv==0.4.3\n",
        "%cd \"/content\""
      ],
      "execution_count": null,
      "outputs": []
    },
    {
      "cell_type": "markdown",
      "metadata": {
        "id": "ElH_dg6mQaWv",
        "colab_type": "text"
      },
      "source": [
        "## 2. Clone the Repository \n",
        "We will be using \"ICDAR 19 (Track B2 Modern) table structure recognition\" for demo"
      ]
    },
    {
      "cell_type": "code",
      "metadata": {
        "id": "3qGrF50HQZjx",
        "colab_type": "code",
        "colab": {
          "base_uri": "https://localhost:8080/",
          "height": 121
        },
        "outputId": "97e42319-4581-4c2e-a9c8-de7f10f75b0e"
      },
      "source": [
        "!git clone https://github.com/strangest-quark/line-item-extraction.git"
      ],
      "execution_count": 1,
      "outputs": [
        {
          "output_type": "stream",
          "text": [
            "Cloning into 'line-item-extraction'...\n",
            "remote: Enumerating objects: 13, done.\u001b[K\n",
            "remote: Counting objects:   7% (1/13)\u001b[K\rremote: Counting objects:  15% (2/13)\u001b[K\rremote: Counting objects:  23% (3/13)\u001b[K\rremote: Counting objects:  30% (4/13)\u001b[K\rremote: Counting objects:  38% (5/13)\u001b[K\rremote: Counting objects:  46% (6/13)\u001b[K\rremote: Counting objects:  53% (7/13)\u001b[K\rremote: Counting objects:  61% (8/13)\u001b[K\rremote: Counting objects:  69% (9/13)\u001b[K\rremote: Counting objects:  76% (10/13)\u001b[K\rremote: Counting objects:  84% (11/13)\u001b[K\rremote: Counting objects:  92% (12/13)\u001b[K\rremote: Counting objects: 100% (13/13)\u001b[K\rremote: Counting objects: 100% (13/13), done.\u001b[K\n",
            "remote: Compressing objects: 100% (11/11), done.\u001b[K\n",
            "remote: Total 13 (delta 1), reused 11 (delta 1), pack-reused 0\u001b[K\n",
            "Unpacking objects: 100% (13/13), done.\n"
          ],
          "name": "stdout"
        }
      ]
    },
    {
      "cell_type": "markdown",
      "metadata": {
        "id": "5tJFeJMMQvlv",
        "colab_type": "text"
      },
      "source": [
        "## 3. Download the Pretrained Model\n",
        "\n"
      ]
    },
    {
      "cell_type": "code",
      "metadata": {
        "id": "VNcfZA_bQ0ZR",
        "colab_type": "code",
        "colab": {
          "base_uri": "https://localhost:8080/",
          "height": 86
        },
        "outputId": "34abcdcd-53c5-4d2f-9b44-a2825260e91a"
      },
      "source": [
        "!gdown \"https://drive.google.com/u/0/uc?id=1-QieHkR1Q7CXuBu4fp3rYrvDG9j26eFT\""
      ],
      "execution_count": 2,
      "outputs": [
        {
          "output_type": "stream",
          "text": [
            "Downloading...\n",
            "From: https://drive.google.com/u/0/uc?id=1-QieHkR1Q7CXuBu4fp3rYrvDG9j26eFT\n",
            "To: /content/epoch_36.pth\n",
            "664MB [00:03, 178MB/s]\n"
          ],
          "name": "stdout"
        }
      ]
    },
    {
      "cell_type": "markdown",
      "metadata": {
        "id": "0ChCNzJSRCtD",
        "colab_type": "text"
      },
      "source": [
        "## 4. Run the Predictions"
      ]
    },
    {
      "cell_type": "code",
      "metadata": {
        "id": "e0P85mJJQ304",
        "colab_type": "code",
        "colab": {
          "base_uri": "https://localhost:8080/",
          "height": 200
        },
        "outputId": "4aa07f31-7ce4-437f-8a29-502333eee2fa"
      },
      "source": [
        "from mmdet.apis import init_detector, inference_detector, show_result_pyplot\n",
        "import mmcv\n",
        "import os\n",
        "\n",
        "# Load model\n",
        "config_file = '/content/line-item-extraction/config/cascade_mask_rcnn_hrnetv2p_w32_20e.py'\n",
        "checkpoint_file = '/content/epoch_36.pth'\n",
        "model = init_detector(config_file, checkpoint_file, device='cuda:0')\n",
        "\n",
        "directory = '/content/line-item-extraction/sample docs'\n",
        "\n",
        "results = []\n",
        "\n",
        "for filename in os.listdir(directory):\n",
        "    if filename.endswith(\".png\"):\n",
        "      # Run Inference\n",
        "      results.append(inference_detector(model, directory+'/'+filename))\n",
        "\n",
        "      # Visualization results\n",
        "      show_result_pyplot(directory+'/'+filename, result,('Bordered', 'cell', 'Borderless'), score_thr=0.85)"
      ],
      "execution_count": 2,
      "outputs": [
        {
          "output_type": "error",
          "ename": "NameError",
          "evalue": "ignored",
          "traceback": [
            "\u001b[0;31m---------------------------------------------------------------------------\u001b[0m",
            "\u001b[0;31mNameError\u001b[0m                                 Traceback (most recent call last)",
            "\u001b[0;32m<ipython-input-2-4d7ae6af5e10>\u001b[0m in \u001b[0;36m<module>\u001b[0;34m()\u001b[0m\n\u001b[1;32m     18\u001b[0m \u001b[0;34m\u001b[0m\u001b[0m\n\u001b[1;32m     19\u001b[0m       \u001b[0;31m# Visualization results\u001b[0m\u001b[0;34m\u001b[0m\u001b[0;34m\u001b[0m\u001b[0;34m\u001b[0m\u001b[0m\n\u001b[0;32m---> 20\u001b[0;31m       \u001b[0mshow_result_pyplot\u001b[0m\u001b[0;34m(\u001b[0m\u001b[0mdirectory\u001b[0m\u001b[0;34m+\u001b[0m\u001b[0;34m'/'\u001b[0m\u001b[0;34m+\u001b[0m\u001b[0mfilename\u001b[0m\u001b[0;34m,\u001b[0m \u001b[0mresult\u001b[0m\u001b[0;34m,\u001b[0m\u001b[0;34m(\u001b[0m\u001b[0;34m'Bordered'\u001b[0m\u001b[0;34m,\u001b[0m \u001b[0;34m'cell'\u001b[0m\u001b[0;34m,\u001b[0m \u001b[0;34m'Borderless'\u001b[0m\u001b[0;34m)\u001b[0m\u001b[0;34m,\u001b[0m \u001b[0mscore_thr\u001b[0m\u001b[0;34m=\u001b[0m\u001b[0;36m0.85\u001b[0m\u001b[0;34m)\u001b[0m\u001b[0;34m\u001b[0m\u001b[0;34m\u001b[0m\u001b[0m\n\u001b[0m",
            "\u001b[0;31mNameError\u001b[0m: name 'result' is not defined"
          ]
        }
      ]
    },
    {
      "cell_type": "markdown",
      "metadata": {
        "id": "-Lr020DuWXUg",
        "colab_type": "text"
      },
      "source": [
        "After this, use TSR postprocessing for best result"
      ]
    },
    {
      "cell_type": "code",
      "metadata": {
        "id": "fwGFRXcQjRRu",
        "colab_type": "code",
        "colab": {}
      },
      "source": [
        "res = results[2]\n"
      ],
      "execution_count": null,
      "outputs": []
    },
    {
      "cell_type": "markdown",
      "metadata": {
        "id": "O2SOloPaa8tK",
        "colab_type": "text"
      },
      "source": [
        "# Cite us\n",
        "If you find this work useful for your research, please cite our paper:\n",
        "\n",
        "```\n",
        "@misc{ cascadetabnet2020,\n",
        "    title={CascadeTabNet: An approach for end to end table detection and structure recognition from image-based documents},\n",
        "    author={Devashish Prasad and Ayan Gadpal and Kshitij Kapadni and Manish Visave and Kavita Sultanpure},\n",
        "    year={2020},\n",
        "    eprint={2004.12629},\n",
        "    archivePrefix={arXiv},\n",
        "    primaryClass={cs.CV}\n",
        "}\n",
        "```\n"
      ]
    }
  ]
}